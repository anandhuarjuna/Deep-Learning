{
  "nbformat": 4,
  "nbformat_minor": 0,
  "metadata": {
    "colab": {
      "provenance": [],
      "authorship_tag": "ABX9TyMbcfY5TG5BOVwd79PiLeRQ",
      "include_colab_link": true
    },
    "kernelspec": {
      "name": "python3",
      "display_name": "Python 3"
    },
    "language_info": {
      "name": "python"
    },
    "accelerator": "GPU",
    "gpuClass": "standard"
  },
  "cells": [
    {
      "cell_type": "markdown",
      "metadata": {
        "id": "view-in-github",
        "colab_type": "text"
      },
      "source": [
        "<a href=\"https://colab.research.google.com/github/anandhuarjuna/Deep-Learning/blob/main/Deep_Learning_CNN_mnist_data_set.ipynb\" target=\"_parent\"><img src=\"https://colab.research.google.com/assets/colab-badge.svg\" alt=\"Open In Colab\"/></a>"
      ]
    },
    {
      "cell_type": "code",
      "execution_count": null,
      "metadata": {
        "id": "YEkJ1KzIeLMf"
      },
      "outputs": [],
      "source": [
        "import tensorflow\n",
        "from tensorflow.keras.datasets import mnist\n",
        "from tensorflow.keras.models import Sequential\n",
        "from tensorflow.keras.layers import Conv2D,MaxPool2D,Flatten,Dense\n"
      ]
    },
    {
      "cell_type": "code",
      "source": [
        "#LOAD\n",
        "(X_train,y_train),(X_test,y_test)=mnist.load_data()"
      ],
      "metadata": {
        "id": "IgP--FZ1gdcJ",
        "colab": {
          "base_uri": "https://localhost:8080/"
        },
        "outputId": "bb2f7d51-c0dd-4996-8676-7e9fd3fc8e1a"
      },
      "execution_count": null,
      "outputs": [
        {
          "output_type": "stream",
          "name": "stdout",
          "text": [
            "Downloading data from https://storage.googleapis.com/tensorflow/tf-keras-datasets/mnist.npz\n",
            "11490434/11490434 [==============================] - 1s 0us/step\n"
          ]
        }
      ]
    },
    {
      "cell_type": "code",
      "source": [
        "X_train.shape # here rows-60000 and pixels are 28 by 28"
      ],
      "metadata": {
        "colab": {
          "base_uri": "https://localhost:8080/"
        },
        "id": "koJtcvadgnlk",
        "outputId": "3bb6bdb6-da75-44d4-b885-e43bcf544a98"
      },
      "execution_count": null,
      "outputs": [
        {
          "output_type": "execute_result",
          "data": {
            "text/plain": [
              "(60000, 28, 28)"
            ]
          },
          "metadata": {},
          "execution_count": 4
        }
      ]
    },
    {
      "cell_type": "code",
      "source": [
        "X_test.shape"
      ],
      "metadata": {
        "colab": {
          "base_uri": "https://localhost:8080/"
        },
        "id": "Evf0SyJbgqe_",
        "outputId": "2c0fd19e-edf2-42a0-f9a0-6eaef08a8ad0"
      },
      "execution_count": null,
      "outputs": [
        {
          "output_type": "execute_result",
          "data": {
            "text/plain": [
              "(10000, 28, 28)"
            ]
          },
          "metadata": {},
          "execution_count": 5
        }
      ]
    },
    {
      "cell_type": "code",
      "source": [
        "#reshape\n",
        "X_train=X_train.reshape(60000,28,28,1)\n",
        "X_test=X_test.reshape(10000,28,28,1)  "
      ],
      "metadata": {
        "id": "nlbF2dLXg4Bz"
      },
      "execution_count": null,
      "outputs": []
    },
    {
      "cell_type": "code",
      "source": [
        "X_train.shape"
      ],
      "metadata": {
        "colab": {
          "base_uri": "https://localhost:8080/"
        },
        "id": "oN5ph5ZIhPEI",
        "outputId": "4512a72b-56f4-4df4-9e7b-7a7daaf429fa"
      },
      "execution_count": null,
      "outputs": [
        {
          "output_type": "execute_result",
          "data": {
            "text/plain": [
              "(60000, 28, 28, 1)"
            ]
          },
          "metadata": {},
          "execution_count": 7
        }
      ]
    },
    {
      "cell_type": "code",
      "source": [
        "#Normalize\n",
        "X_train=X_train/255\n",
        "X_test=X_test/255"
      ],
      "metadata": {
        "id": "fI-fA3MYhXYM"
      },
      "execution_count": null,
      "outputs": []
    },
    {
      "cell_type": "code",
      "source": [
        "#Model\n",
        "model=Sequential()\n",
        "#Convolution layer\n",
        "model.add(Conv2D(32,(3,3),activation='relu',input_shape=(28,28,1))) #Here 32 is kernel size, 3,3 is strides(i.e., moving from one to another) \n",
        "#Pooling layer\n",
        "model.add(MaxPool2D(2,2))\n",
        "#flatten\n",
        "model.add(Flatten())\n",
        "#fully connected layers\n",
        "model.add(Dense(100,activation='relu'))\n",
        "#adding output layer\n",
        "model.add(Dense(10,activation='softmax'))"
      ],
      "metadata": {
        "id": "Xhz_BiYihklw"
      },
      "execution_count": null,
      "outputs": []
    },
    {
      "cell_type": "code",
      "source": [
        "#compile\n",
        "model.compile(loss='sparse_categorical_crossentropy',optimizer='adam',metrics=['accuracy'])\n"
      ],
      "metadata": {
        "id": "gSbQmf0HkAFM"
      },
      "execution_count": null,
      "outputs": []
    },
    {
      "cell_type": "code",
      "source": [
        "model.fit(X_train,y_train,batch_size=6000,epochs=10)"
      ],
      "metadata": {
        "colab": {
          "base_uri": "https://localhost:8080/"
        },
        "id": "l3VX08bjkTbL",
        "outputId": "2d8fcba5-684a-43bf-d758-5516452a24eb"
      },
      "execution_count": null,
      "outputs": [
        {
          "output_type": "stream",
          "name": "stdout",
          "text": [
            "Epoch 1/10\n",
            "10/10 [==============================] - 1s 63ms/step - loss: 0.0419 - accuracy: 0.9890\n",
            "Epoch 2/10\n",
            "10/10 [==============================] - 1s 60ms/step - loss: 0.0409 - accuracy: 0.9891\n",
            "Epoch 3/10\n",
            "10/10 [==============================] - 1s 60ms/step - loss: 0.0400 - accuracy: 0.9887\n",
            "Epoch 4/10\n",
            "10/10 [==============================] - 1s 61ms/step - loss: 0.0381 - accuracy: 0.9896\n",
            "Epoch 5/10\n",
            "10/10 [==============================] - 1s 59ms/step - loss: 0.0369 - accuracy: 0.9901\n",
            "Epoch 6/10\n",
            "10/10 [==============================] - 1s 61ms/step - loss: 0.0355 - accuracy: 0.9903\n",
            "Epoch 7/10\n",
            "10/10 [==============================] - 1s 60ms/step - loss: 0.0340 - accuracy: 0.9911\n",
            "Epoch 8/10\n",
            "10/10 [==============================] - 1s 61ms/step - loss: 0.0333 - accuracy: 0.9910\n",
            "Epoch 9/10\n",
            "10/10 [==============================] - 1s 60ms/step - loss: 0.0325 - accuracy: 0.9913\n",
            "Epoch 10/10\n",
            "10/10 [==============================] - 1s 59ms/step - loss: 0.0321 - accuracy: 0.9916\n"
          ]
        },
        {
          "output_type": "execute_result",
          "data": {
            "text/plain": [
              "<keras.callbacks.History at 0x7f86e0236730>"
            ]
          },
          "metadata": {},
          "execution_count": 12
        }
      ]
    },
    {
      "cell_type": "code",
      "source": [
        "from skimage.io import imread\n",
        "from skimage.transform import resize\n",
        "import numpy as np\n",
        "path=('/content/2download.png')\n",
        "img=imread(path)\n",
        "img=resize(img,(1,28,28,1))\n",
        "img=img/255\n",
        "res=model.predict(img)\n",
        "print(res)\n",
        "print(np.argmax(res))"
      ],
      "metadata": {
        "colab": {
          "base_uri": "https://localhost:8080/"
        },
        "id": "ZfwgPIEmjRYt",
        "outputId": "d4aa0562-3322-48da-8b8e-484d03964b80"
      },
      "execution_count": null,
      "outputs": [
        {
          "output_type": "stream",
          "name": "stdout",
          "text": [
            "1/1 [==============================] - 0s 15ms/step\n",
            "[[8.1891654e-04 8.6561674e-01 1.9300397e-02 3.7657425e-03 2.3731540e-03\n",
            "  4.4721801e-02 4.2153351e-04 6.2807366e-02 2.9549930e-05 1.4475324e-04]]\n",
            "1\n"
          ]
        }
      ]
    },
    {
      "cell_type": "code",
      "source": [
        "import cv2\n",
        "import numpy as np\n",
        "img=cv2.imread('r/content/1download.jpg')\n"
      ],
      "metadata": {
        "id": "hZXIQPrSsRmw"
      },
      "execution_count": null,
      "outputs": []
    },
    {
      "cell_type": "code",
      "source": [
        "img"
      ],
      "metadata": {
        "id": "dnPLY0RasjEA"
      },
      "execution_count": null,
      "outputs": []
    }
  ]
}